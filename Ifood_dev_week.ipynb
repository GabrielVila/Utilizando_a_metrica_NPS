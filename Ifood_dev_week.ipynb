{
  "nbformat": 4,
  "nbformat_minor": 0,
  "metadata": {
    "colab": {
      "provenance": [],
      "authorship_tag": "ABX9TyOHPMk1/ipmVdZy8r0iBBPB",
      "include_colab_link": true
    },
    "kernelspec": {
      "name": "python3",
      "display_name": "Python 3"
    },
    "language_info": {
      "name": "python"
    }
  },
  "cells": [
    {
      "cell_type": "markdown",
      "metadata": {
        "id": "view-in-github",
        "colab_type": "text"
      },
      "source": [
        "<a href=\"https://colab.research.google.com/github/GabrielVila/ifood_dev_week/blob/main/Ifood_dev_week.ipynb\" target=\"_parent\"><img src=\"https://colab.research.google.com/assets/colab-badge.svg\" alt=\"Open In Colab\"/></a>"
      ]
    },
    {
      "cell_type": "markdown",
      "source": [
        "A semana Ifood Dev Week, se trata de um programa proporcionado pela Dio em parceria com o Ifood, no qual irá explorar o uso do Python e da Inteligência Artificial, voltado para aplicações na área da Ciência de Dados.\n",
        "\n",
        "Para ler mais a respeito: https://www.dio.me/articles/desvendando-a-ifood-dev-week\n",
        "\n",
        "Nessa aula aprendi um pouco sobre a implementação do NPS (Net Promoter Score) utilizando como auxílio a linguagem Python, nps se trata de uma métrica de lealdade do cliente, no qual calcula a porcentagem entre a diferença dos clientes promotores e detratores, divididos pelo número total de avaliações.\n",
        "\n",
        "Sendo:\n",
        "\n",
        "-100% a 0% = Zona crítica (O publico não está nem um pouco satisfeito)\n",
        "\n",
        "0% a 50% = Zona de aperfeiçoamento (Preicsa ser melhorado o produto)\n",
        "\n",
        "50% a 75% = Zona de Qualidade (O publico está satisfeito, porém pode\n",
        "melhorar mais)\n",
        "\n",
        "75% a 100% = Zona de Excelência (O publico está muito satisfeito)"
      ],
      "metadata": {
        "id": "TwkYiwvx6sXA"
      }
    },
    {
      "cell_type": "code",
      "execution_count": 36,
      "metadata": {
        "colab": {
          "base_uri": "https://localhost:8080/"
        },
        "id": "2QMjRc2T31eP",
        "outputId": "9746df48-04f8-4b04-d4b0-e4bce86083ac"
      },
      "outputs": [
        {
          "output_type": "stream",
          "name": "stdout",
          "text": [
            "40.0\n"
          ]
        }
      ],
      "source": [
        "# TODO: Implementar a lógica de NPS em comandos simples e sequenciais (imperativo).\n",
        "\n",
        "import pandas as pd\n",
        "\n",
        "base = pd.read_csv('/content/feedbacks.csv')\n",
        "\n",
        "detratores = 0\n",
        "promotores = 0\n",
        "\n",
        "notas = base['nota']\n",
        "\n",
        "for nota in notas:\n",
        "  if nota >= 9:\n",
        "    promotores += 1\n",
        "  elif nota <= 6:\n",
        "    detratores += 1\n",
        "\n",
        "nps = (promotores - detratores) / len(notas) * 100\n",
        "print(nps)\n"
      ]
    },
    {
      "cell_type": "code",
      "source": [
        "# TODO: Evoluir a implementação para separar melhor as responsabilidades (funcional).\n",
        "\n",
        "import pandas as pd\n",
        "\n",
        "def calcular_nps(notas):\n",
        "  detratores = 0\n",
        "  promotores = 0\n",
        "\n",
        "  for nota in notas:\n",
        "    if nota >= 9:\n",
        "      promotores += 1\n",
        "    elif nota <= 6:\n",
        "      detratores += 1\n",
        "\n",
        "  nps = (promotores - detratores) / len(notas) * 100\n",
        "  return nps\n",
        "\n",
        "\n",
        "\n",
        "base = pd.read_csv('/content/feedbacks.csv')\n",
        "notas = base['nota']\n",
        "\n",
        "\n",
        "print(calcular_nps(notas))\n"
      ],
      "metadata": {
        "colab": {
          "base_uri": "https://localhost:8080/"
        },
        "id": "6CVD6oMhIzOF",
        "outputId": "563bf7b3-bd6e-49a3-d984-56edf7822ccf"
      },
      "execution_count": 35,
      "outputs": [
        {
          "output_type": "stream",
          "name": "stdout",
          "text": [
            "40.0\n"
          ]
        }
      ]
    },
    {
      "cell_type": "code",
      "source": [
        "# TODO: Abstrair o problema usando classes e objetos (orientação a objetos)\n",
        "\n",
        "import pandas as pd\n",
        "\n",
        "class Feedback:\n",
        "  def __init__(self, nota, comentario):\n",
        "    self.nota = nota\n",
        "    self.comentario = comentario\n",
        "\n",
        "class AnalisadosFeedback:\n",
        "  def __init__(self, feedbacks):\n",
        "    self.feedbacks = feedbacks\n",
        "\n",
        "  def calcular_nps(self):\n",
        "    detratores = sum([1 for feedback in self.feedbacks if feedback.nota <= 6])\n",
        "    promotores = sum([1 for feedback in self.feedbacks if feedback.nota >= 9])\n",
        "\n",
        "    return (promotores - detratores) / len(self.feedbacks) * 100\n",
        "\n",
        "\n",
        "\n",
        "\n",
        "base = pd.read_csv('/content/feedbacks.csv')\n",
        "\n",
        "feedbacks = [Feedback(linha['nota'], linha['comentario']) for i, linha in base.iterrows()]\n",
        "\n",
        "analisador = AnalisadosFeedback(feedbacks)\n",
        "nps = analisador.calcular_nps()\n",
        "nps"
      ],
      "metadata": {
        "colab": {
          "base_uri": "https://localhost:8080/"
        },
        "id": "vCWFDDhaNuN_",
        "outputId": "4d954d18-6023-4a62-9b6f-330a8e8dda9b"
      },
      "execution_count": 34,
      "outputs": [
        {
          "output_type": "execute_result",
          "data": {
            "text/plain": [
              "40.0"
            ]
          },
          "metadata": {},
          "execution_count": 34
        }
      ]
    }
  ]
}