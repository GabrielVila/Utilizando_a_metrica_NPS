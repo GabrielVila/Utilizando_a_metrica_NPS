{
  "nbformat": 4,
  "nbformat_minor": 0,
  "metadata": {
    "colab": {
      "provenance": [],
      "toc_visible": true,
      "authorship_tag": "ABX9TyNHYm33guYHhJ0xvW9fGLBr",
      "include_colab_link": true
    },
    "kernelspec": {
      "name": "python3",
      "display_name": "Python 3"
    },
    "language_info": {
      "name": "python"
    }
  },
  "cells": [
    {
      "cell_type": "markdown",
      "metadata": {
        "id": "view-in-github",
        "colab_type": "text"
      },
      "source": [
        "<a href=\"https://colab.research.google.com/github/GabrielVila/ifood_dev_week/blob/main/Utilizando_a_m%C3%A9trica_NPS.ipynb\" target=\"_parent\"><img src=\"https://colab.research.google.com/assets/colab-badge.svg\" alt=\"Open In Colab\"/></a>"
      ]
    },
    {
      "cell_type": "markdown",
      "source": [
        "Aula 1 - Buscando os dados e aplicando a fórmula do NPS\n",
        "\n"
      ],
      "metadata": {
        "id": "kU7B39ysJNJ2"
      }
    },
    {
      "cell_type": "markdown",
      "source": [
        "Nessa aula, tive a oportunidade de aprender sobre a implementação do NPS (Net Promoter Score) utilizando a linguagem Python como suporte. O NPS é uma métrica que mede a satisfação dos clientes, ela é calculada através da diferença dos clientes promotores e detratores, dividido pelo número total de avaliações\n",
        "\n",
        "Os intervalos de porcentagem correspondentes são os seguintes:\n",
        "\n",
        "- NPS Excelente – entre 75 e 100\n",
        "\n",
        "- NPS Muito bom – entre 50 e 74\n",
        "\n",
        "- NPS Razoável – entre 0 e 49\n",
        "\n",
        "- NPS Crítico – entre -100 e -1"
      ],
      "metadata": {
        "id": "TwkYiwvx6sXA"
      }
    },
    {
      "cell_type": "code",
      "source": [
        "# Baixar o arquivo CSV do Google Drive da aula e carregar seus dados em um DataFrame pandas.\n",
        "import gdown\n",
        "import pandas as pd\n",
        "\n",
        "file_id = '1_nyLNsT55X37Y0KDBXVXzSYsX-SoSqZi'\n",
        "gdown.download(f'https://drive.google.com/uc?id={file_id}', 'feedbacks.csv')\n",
        "\n",
        "base = pd.read_csv('/content/feedbacks.csv', delimiter=\";\")"
      ],
      "metadata": {
        "colab": {
          "base_uri": "https://localhost:8080/"
        },
        "id": "_yQ7B-8aEk42",
        "outputId": "a5f5e440-ca3e-40ac-e2d1-2b53da7f6798"
      },
      "execution_count": 42,
      "outputs": [
        {
          "output_type": "stream",
          "name": "stderr",
          "text": [
            "Downloading...\n",
            "From: https://drive.google.com/uc?id=1_nyLNsT55X37Y0KDBXVXzSYsX-SoSqZi\n",
            "To: /content/feedbacks.csv\n",
            "100%|██████████| 351/351 [00:00<00:00, 721kB/s]\n"
          ]
        }
      ]
    },
    {
      "cell_type": "code",
      "execution_count": 43,
      "metadata": {
        "colab": {
          "base_uri": "https://localhost:8080/"
        },
        "id": "2QMjRc2T31eP",
        "outputId": "2941ebb9-0aea-447a-daa2-73ef734fa417"
      },
      "outputs": [
        {
          "output_type": "stream",
          "name": "stdout",
          "text": [
            "57.14285714285714\n"
          ]
        }
      ],
      "source": [
        "# TODO: Implementar a lógica de NPS em comandos simples e sequenciais (imperativo).\n",
        "\n",
        "detratores = 0\n",
        "promotores = 0\n",
        "\n",
        "notas = base['nota']\n",
        "\n",
        "for nota in notas:\n",
        "  if nota >= 9:\n",
        "    promotores += 1\n",
        "  elif nota <= 6:\n",
        "    detratores += 1\n",
        "\n",
        "nps = (promotores - detratores) / len(notas) * 100\n",
        "print(nps)\n"
      ]
    },
    {
      "cell_type": "code",
      "source": [
        "# TODO: Evoluir a implementação para separar melhor as responsabilidades (funcional).\n",
        "\n",
        "def calcular_nps(notas):\n",
        "  detratores = 0\n",
        "  promotores = 0\n",
        "\n",
        "  for nota in notas:\n",
        "    if nota >= 9:\n",
        "      promotores += 1\n",
        "    elif nota <= 6:\n",
        "      detratores += 1\n",
        "\n",
        "  nps = (promotores - detratores) / len(notas) * 100\n",
        "  return nps\n",
        "\n",
        "\n",
        "notas = base['nota']\n",
        "\n",
        "\n",
        "print(calcular_nps(notas))\n"
      ],
      "metadata": {
        "colab": {
          "base_uri": "https://localhost:8080/"
        },
        "id": "6CVD6oMhIzOF",
        "outputId": "2830aed7-bb4f-42d8-c385-2fe332e3ceca"
      },
      "execution_count": 44,
      "outputs": [
        {
          "output_type": "stream",
          "name": "stdout",
          "text": [
            "57.14285714285714\n"
          ]
        }
      ]
    },
    {
      "cell_type": "code",
      "source": [
        "# TODO: Abstrair o problema usando classes e objetos (orientação a objetos)\n",
        "\n",
        "class Feedback:\n",
        "  def __init__(self, nota, comentario):\n",
        "    self.nota = nota\n",
        "    self.comentario = comentario\n",
        "\n",
        "class AnalisadosFeedback:\n",
        "  def __init__(self, feedbacks):\n",
        "    self.feedbacks = feedbacks\n",
        "\n",
        "  def calcular_nps(self):\n",
        "    detratores = notas[notas <= 6].count()\n",
        "    promotores = notas[notas >= 9].count()\n",
        "\n",
        "    return (promotores - detratores) / len(self.feedbacks) * 100\n",
        "\n",
        "\n",
        "\n",
        "\n",
        "feedbacks = [Feedback(linha['nota'], linha['comentario']) for i, linha in base.iterrows()]\n",
        "\n",
        "analisador = AnalisadosFeedback(feedbacks)\n",
        "nps = analisador.calcular_nps()\n",
        "nps"
      ],
      "metadata": {
        "colab": {
          "base_uri": "https://localhost:8080/"
        },
        "id": "vCWFDDhaNuN_",
        "outputId": "2dbb4a2f-7d01-4871-cf54-296b5956c422"
      },
      "execution_count": 45,
      "outputs": [
        {
          "output_type": "execute_result",
          "data": {
            "text/plain": [
              "57.14285714285714"
            ]
          },
          "metadata": {},
          "execution_count": 45
        }
      ]
    },
    {
      "cell_type": "markdown",
      "source": [
        "Aula 2 - Visualização gráfica dos dados\n",
        "\n"
      ],
      "metadata": {
        "id": "dV6Hue4B-Ijt"
      }
    },
    {
      "cell_type": "code",
      "source": [
        "import matplotlib.pyplot as plt\n",
        "import matplotlib.patches as mpatches\n",
        "\n",
        "# Definição das constantes que usaremos para visualizar o NPS\n",
        "NPS_ZONAS =   ['Crítico', 'Aperfeiçoamento', 'Qualidade', 'Excelência']\n",
        "NPS_VALORES = [-100, 0, 50, 75, 100]\n",
        "NPS_CORES =   ['#FF595E', '#FFCA3A', '#8AC926', '#1982C4']\n",
        "\n",
        "# TODO: Criar um gráfico usando \"matplotlib\" para visualizar o NPS que calculamos\n",
        "\n",
        "def criar_grafico_nps(nps):\n",
        "  fig, ax = plt.subplots(figsize=(10,2))\n",
        "\n",
        "  for i, zona in enumerate(NPS_ZONAS):\n",
        "    ax.barh([0], width= NPS_VALORES[i + 1] - NPS_VALORES[i], left=NPS_VALORES[i], color=NPS_CORES[i])\n",
        "\n",
        "  ax.barh([0], width = 0.5, left = nps, color='black')\n",
        "  ax.set_yticks([])\n",
        "  ax.set_xlim(-100, 100)\n",
        "  ax.set_xticks(NPS_VALORES)\n",
        "\n",
        "  plt.text(nps, 0, f'{nps:.2f}', ha='center', va='center', color='white', bbox=dict(facecolor ='black'))\n",
        "\n",
        "  patches = [mpatches.Patch(color=NPS_CORES[i], label=NPS_ZONAS[i]) for i in range(len(NPS_ZONAS))]\n",
        "  plt.legend(handles=patches, bbox_to_anchor=(1,1))\n",
        "\n",
        "  plt.show()\n",
        "\n",
        "criar_grafico_nps(nps)"
      ],
      "metadata": {
        "colab": {
          "base_uri": "https://localhost:8080/",
          "height": 214
        },
        "id": "6NN4tXnL-LrZ",
        "outputId": "03da3f12-024e-4d4e-c8a4-3e47f2b6bb9a"
      },
      "execution_count": 52,
      "outputs": [
        {
          "output_type": "display_data",
          "data": {
            "text/plain": [
              "<Figure size 1000x200 with 1 Axes>"
            ],
            "image/png": "[encoded data removed]"
          },
          "metadata": {}
        }
      ]
    }
  ]
}